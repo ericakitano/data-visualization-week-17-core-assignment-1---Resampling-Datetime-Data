{
 "cells": [
  {
   "cell_type": "markdown",
   "id": "2e3a7ac2",
   "metadata": {},
   "source": [
    "# **Import Libraries**"
   ]
  },
  {
   "cell_type": "code",
   "execution_count": 1,
   "id": "c05ac953",
   "metadata": {},
   "outputs": [],
   "source": [
    "import pandas as pd\n",
    "import matplotlib.pyplot as plt\n",
    "#import tick customization tools\n",
    "import matplotlib.ticker as mticks\n",
    "import matplotlib.dates as mdates"
   ]
  },
  {
   "cell_type": "markdown",
   "id": "b0581e5a",
   "metadata": {},
   "source": [
    "# **Part 1) Load the data and make a datetime index.**\n"
   ]
  },
  {
   "cell_type": "markdown",
   "id": "582d0b63",
   "metadata": {},
   "source": [
    "## Load Data"
   ]
  },
  {
   "cell_type": "code",
   "execution_count": 2,
   "id": "bc3cc629",
   "metadata": {},
   "outputs": [],
   "source": [
    "url=\"https://docs.google.com/spreadsheets/d/1J2hEGA1-ZOdXOc1Go2AjB7xShq-nAvIDpBz_XRZscHU/pub?output=csv\"\n",
    "df = pd.read_csv(url)"
   ]
  },
  {
   "cell_type": "code",
   "execution_count": 3,
   "id": "e54e67af",
   "metadata": {},
   "outputs": [
    {
     "data": {
      "text/html": [
       "<div>\n",
       "<style scoped>\n",
       "    .dataframe tbody tr th:only-of-type {\n",
       "        vertical-align: middle;\n",
       "    }\n",
       "\n",
       "    .dataframe tbody tr th {\n",
       "        vertical-align: top;\n",
       "    }\n",
       "\n",
       "    .dataframe thead th {\n",
       "        text-align: right;\n",
       "    }\n",
       "</style>\n",
       "<table border=\"1\" class=\"dataframe\">\n",
       "  <thead>\n",
       "    <tr style=\"text-align: right;\">\n",
       "      <th></th>\n",
       "      <th>date</th>\n",
       "      <th>cloud_cover</th>\n",
       "      <th>sunshine</th>\n",
       "      <th>global_radiation</th>\n",
       "      <th>max_temp</th>\n",
       "      <th>mean_temp</th>\n",
       "      <th>min_temp</th>\n",
       "      <th>precipitation</th>\n",
       "      <th>pressure</th>\n",
       "      <th>snow_depth</th>\n",
       "    </tr>\n",
       "  </thead>\n",
       "  <tbody>\n",
       "    <tr>\n",
       "      <th>0</th>\n",
       "      <td>19790101</td>\n",
       "      <td>2.0</td>\n",
       "      <td>7.0</td>\n",
       "      <td>52.0</td>\n",
       "      <td>2.3</td>\n",
       "      <td>-4.1</td>\n",
       "      <td>-7.5</td>\n",
       "      <td>0.4</td>\n",
       "      <td>101900.0</td>\n",
       "      <td>9.0</td>\n",
       "    </tr>\n",
       "    <tr>\n",
       "      <th>1</th>\n",
       "      <td>19790102</td>\n",
       "      <td>6.0</td>\n",
       "      <td>1.7</td>\n",
       "      <td>27.0</td>\n",
       "      <td>1.6</td>\n",
       "      <td>-2.6</td>\n",
       "      <td>-7.5</td>\n",
       "      <td>0.0</td>\n",
       "      <td>102530.0</td>\n",
       "      <td>8.0</td>\n",
       "    </tr>\n",
       "    <tr>\n",
       "      <th>2</th>\n",
       "      <td>19790103</td>\n",
       "      <td>5.0</td>\n",
       "      <td>0.0</td>\n",
       "      <td>13.0</td>\n",
       "      <td>1.3</td>\n",
       "      <td>-2.8</td>\n",
       "      <td>-7.2</td>\n",
       "      <td>0.0</td>\n",
       "      <td>102050.0</td>\n",
       "      <td>4.0</td>\n",
       "    </tr>\n",
       "    <tr>\n",
       "      <th>3</th>\n",
       "      <td>19790104</td>\n",
       "      <td>8.0</td>\n",
       "      <td>0.0</td>\n",
       "      <td>13.0</td>\n",
       "      <td>-0.3</td>\n",
       "      <td>-2.6</td>\n",
       "      <td>-6.5</td>\n",
       "      <td>0.0</td>\n",
       "      <td>100840.0</td>\n",
       "      <td>2.0</td>\n",
       "    </tr>\n",
       "    <tr>\n",
       "      <th>4</th>\n",
       "      <td>19790105</td>\n",
       "      <td>6.0</td>\n",
       "      <td>2.0</td>\n",
       "      <td>29.0</td>\n",
       "      <td>5.6</td>\n",
       "      <td>-0.8</td>\n",
       "      <td>-1.4</td>\n",
       "      <td>0.0</td>\n",
       "      <td>102250.0</td>\n",
       "      <td>1.0</td>\n",
       "    </tr>\n",
       "  </tbody>\n",
       "</table>\n",
       "</div>"
      ],
      "text/plain": [
       "       date  cloud_cover  sunshine  global_radiation  max_temp  mean_temp  \\\n",
       "0  19790101          2.0       7.0              52.0       2.3       -4.1   \n",
       "1  19790102          6.0       1.7              27.0       1.6       -2.6   \n",
       "2  19790103          5.0       0.0              13.0       1.3       -2.8   \n",
       "3  19790104          8.0       0.0              13.0      -0.3       -2.6   \n",
       "4  19790105          6.0       2.0              29.0       5.6       -0.8   \n",
       "\n",
       "   min_temp  precipitation  pressure  snow_depth  \n",
       "0      -7.5            0.4  101900.0         9.0  \n",
       "1      -7.5            0.0  102530.0         8.0  \n",
       "2      -7.2            0.0  102050.0         4.0  \n",
       "3      -6.5            0.0  100840.0         2.0  \n",
       "4      -1.4            0.0  102250.0         1.0  "
      ]
     },
     "execution_count": 3,
     "metadata": {},
     "output_type": "execute_result"
    }
   ],
   "source": [
    "df.head()"
   ]
  },
  {
   "cell_type": "code",
   "execution_count": 4,
   "id": "4830eafe",
   "metadata": {},
   "outputs": [
    {
     "name": "stdout",
     "output_type": "stream",
     "text": [
      "<class 'pandas.core.frame.DataFrame'>\n",
      "RangeIndex: 15341 entries, 0 to 15340\n",
      "Data columns (total 10 columns):\n",
      " #   Column            Non-Null Count  Dtype  \n",
      "---  ------            --------------  -----  \n",
      " 0   date              15341 non-null  int64  \n",
      " 1   cloud_cover       14938 non-null  float64\n",
      " 2   sunshine          14957 non-null  float64\n",
      " 3   global_radiation  14939 non-null  float64\n",
      " 4   max_temp          14951 non-null  float64\n",
      " 5   mean_temp         14922 non-null  float64\n",
      " 6   min_temp          14955 non-null  float64\n",
      " 7   precipitation     14951 non-null  float64\n",
      " 8   pressure          14953 non-null  float64\n",
      " 9   snow_depth        13589 non-null  float64\n",
      "dtypes: float64(9), int64(1)\n",
      "memory usage: 1.2 MB\n"
     ]
    }
   ],
   "source": [
    "df.info()"
   ]
  },
  {
   "cell_type": "markdown",
   "id": "a790c3dd",
   "metadata": {},
   "source": [
    "### 1. Convert the date column to datetime dtype."
   ]
  },
  {
   "cell_type": "code",
   "execution_count": 5,
   "id": "522f9103",
   "metadata": {},
   "outputs": [],
   "source": [
    "#convert the date column values into 'datetime' dtype.\n",
    "df['date'] = pd.to_datetime(df['date'], format='%Y%m%d')"
   ]
  },
  {
   "cell_type": "markdown",
   "id": "58566a48",
   "metadata": {},
   "source": [
    "Note: At first, I did not add \", format='%Y%m%d'\" in the above code when converting to datetime dtype, and it converted every line to 1970-01-01 (which I did not notice at the beginning). I only realized that something is wrong when I tried to make the filter for year 2000 onwards and the filter acted like there are no data for 2000 onwards, then I remembered the [example from Learn Platform](https://login.codingdojo.com/m/565/12978/97193) and fixed my code."
   ]
  },
  {
   "cell_type": "code",
   "execution_count": 6,
   "id": "4d5d492d",
   "metadata": {},
   "outputs": [
    {
     "name": "stdout",
     "output_type": "stream",
     "text": [
      "<class 'pandas.core.frame.DataFrame'>\n",
      "RangeIndex: 15341 entries, 0 to 15340\n",
      "Data columns (total 10 columns):\n",
      " #   Column            Non-Null Count  Dtype         \n",
      "---  ------            --------------  -----         \n",
      " 0   date              15341 non-null  datetime64[ns]\n",
      " 1   cloud_cover       14938 non-null  float64       \n",
      " 2   sunshine          14957 non-null  float64       \n",
      " 3   global_radiation  14939 non-null  float64       \n",
      " 4   max_temp          14951 non-null  float64       \n",
      " 5   mean_temp         14922 non-null  float64       \n",
      " 6   min_temp          14955 non-null  float64       \n",
      " 7   precipitation     14951 non-null  float64       \n",
      " 8   pressure          14953 non-null  float64       \n",
      " 9   snow_depth        13589 non-null  float64       \n",
      "dtypes: datetime64[ns](1), float64(9)\n",
      "memory usage: 1.2 MB\n"
     ]
    }
   ],
   "source": [
    "df.info()"
   ]
  },
  {
   "cell_type": "code",
   "execution_count": 7,
   "id": "b868ebb7",
   "metadata": {},
   "outputs": [
    {
     "data": {
      "text/html": [
       "<div>\n",
       "<style scoped>\n",
       "    .dataframe tbody tr th:only-of-type {\n",
       "        vertical-align: middle;\n",
       "    }\n",
       "\n",
       "    .dataframe tbody tr th {\n",
       "        vertical-align: top;\n",
       "    }\n",
       "\n",
       "    .dataframe thead th {\n",
       "        text-align: right;\n",
       "    }\n",
       "</style>\n",
       "<table border=\"1\" class=\"dataframe\">\n",
       "  <thead>\n",
       "    <tr style=\"text-align: right;\">\n",
       "      <th></th>\n",
       "      <th>date</th>\n",
       "      <th>cloud_cover</th>\n",
       "      <th>sunshine</th>\n",
       "      <th>global_radiation</th>\n",
       "      <th>max_temp</th>\n",
       "      <th>mean_temp</th>\n",
       "      <th>min_temp</th>\n",
       "      <th>precipitation</th>\n",
       "      <th>pressure</th>\n",
       "      <th>snow_depth</th>\n",
       "    </tr>\n",
       "  </thead>\n",
       "  <tbody>\n",
       "    <tr>\n",
       "      <th>0</th>\n",
       "      <td>1979-01-01</td>\n",
       "      <td>2.0</td>\n",
       "      <td>7.0</td>\n",
       "      <td>52.0</td>\n",
       "      <td>2.3</td>\n",
       "      <td>-4.1</td>\n",
       "      <td>-7.5</td>\n",
       "      <td>0.4</td>\n",
       "      <td>101900.0</td>\n",
       "      <td>9.0</td>\n",
       "    </tr>\n",
       "    <tr>\n",
       "      <th>1</th>\n",
       "      <td>1979-01-02</td>\n",
       "      <td>6.0</td>\n",
       "      <td>1.7</td>\n",
       "      <td>27.0</td>\n",
       "      <td>1.6</td>\n",
       "      <td>-2.6</td>\n",
       "      <td>-7.5</td>\n",
       "      <td>0.0</td>\n",
       "      <td>102530.0</td>\n",
       "      <td>8.0</td>\n",
       "    </tr>\n",
       "  </tbody>\n",
       "</table>\n",
       "</div>"
      ],
      "text/plain": [
       "        date  cloud_cover  sunshine  global_radiation  max_temp  mean_temp  \\\n",
       "0 1979-01-01          2.0       7.0              52.0       2.3       -4.1   \n",
       "1 1979-01-02          6.0       1.7              27.0       1.6       -2.6   \n",
       "\n",
       "   min_temp  precipitation  pressure  snow_depth  \n",
       "0      -7.5            0.4  101900.0         9.0  \n",
       "1      -7.5            0.0  102530.0         8.0  "
      ]
     },
     "execution_count": 7,
     "metadata": {},
     "output_type": "execute_result"
    }
   ],
   "source": [
    "df.head(2)"
   ]
  },
  {
   "cell_type": "markdown",
   "id": "1073ebac",
   "metadata": {},
   "source": [
    "### 2. Set the date column as the index."
   ]
  },
  {
   "cell_type": "code",
   "execution_count": 8,
   "id": "53c2f24a",
   "metadata": {},
   "outputs": [],
   "source": [
    "# set 'datetime' as the index\n",
    "df = df.set_index('date')"
   ]
  },
  {
   "cell_type": "code",
   "execution_count": 9,
   "id": "d7d9199b",
   "metadata": {},
   "outputs": [
    {
     "data": {
      "text/html": [
       "<div>\n",
       "<style scoped>\n",
       "    .dataframe tbody tr th:only-of-type {\n",
       "        vertical-align: middle;\n",
       "    }\n",
       "\n",
       "    .dataframe tbody tr th {\n",
       "        vertical-align: top;\n",
       "    }\n",
       "\n",
       "    .dataframe thead th {\n",
       "        text-align: right;\n",
       "    }\n",
       "</style>\n",
       "<table border=\"1\" class=\"dataframe\">\n",
       "  <thead>\n",
       "    <tr style=\"text-align: right;\">\n",
       "      <th></th>\n",
       "      <th>cloud_cover</th>\n",
       "      <th>sunshine</th>\n",
       "      <th>global_radiation</th>\n",
       "      <th>max_temp</th>\n",
       "      <th>mean_temp</th>\n",
       "      <th>min_temp</th>\n",
       "      <th>precipitation</th>\n",
       "      <th>pressure</th>\n",
       "      <th>snow_depth</th>\n",
       "    </tr>\n",
       "    <tr>\n",
       "      <th>date</th>\n",
       "      <th></th>\n",
       "      <th></th>\n",
       "      <th></th>\n",
       "      <th></th>\n",
       "      <th></th>\n",
       "      <th></th>\n",
       "      <th></th>\n",
       "      <th></th>\n",
       "      <th></th>\n",
       "    </tr>\n",
       "  </thead>\n",
       "  <tbody>\n",
       "    <tr>\n",
       "      <th>1979-01-01</th>\n",
       "      <td>2.0</td>\n",
       "      <td>7.0</td>\n",
       "      <td>52.0</td>\n",
       "      <td>2.3</td>\n",
       "      <td>-4.1</td>\n",
       "      <td>-7.5</td>\n",
       "      <td>0.4</td>\n",
       "      <td>101900.0</td>\n",
       "      <td>9.0</td>\n",
       "    </tr>\n",
       "    <tr>\n",
       "      <th>1979-01-02</th>\n",
       "      <td>6.0</td>\n",
       "      <td>1.7</td>\n",
       "      <td>27.0</td>\n",
       "      <td>1.6</td>\n",
       "      <td>-2.6</td>\n",
       "      <td>-7.5</td>\n",
       "      <td>0.0</td>\n",
       "      <td>102530.0</td>\n",
       "      <td>8.0</td>\n",
       "    </tr>\n",
       "  </tbody>\n",
       "</table>\n",
       "</div>"
      ],
      "text/plain": [
       "            cloud_cover  sunshine  global_radiation  max_temp  mean_temp  \\\n",
       "date                                                                       \n",
       "1979-01-01          2.0       7.0              52.0       2.3       -4.1   \n",
       "1979-01-02          6.0       1.7              27.0       1.6       -2.6   \n",
       "\n",
       "            min_temp  precipitation  pressure  snow_depth  \n",
       "date                                                       \n",
       "1979-01-01      -7.5            0.4  101900.0         9.0  \n",
       "1979-01-02      -7.5            0.0  102530.0         8.0  "
      ]
     },
     "execution_count": 9,
     "metadata": {},
     "output_type": "execute_result"
    }
   ],
   "source": [
    "df.head(2)"
   ]
  },
  {
   "cell_type": "markdown",
   "id": "88a858fc",
   "metadata": {},
   "source": [
    "### 3. Filter out only the required data:\n",
    "\n",
    "- Keep only data from the year 2000 or later.\n",
    "- Keep only the following features:\n",
    "   - precipitation\n",
    "   - mean_temp\n",
    "   - min_temp\n",
    "   - max_temp\n",
    "   - snow_depth"
   ]
  },
  {
   "cell_type": "code",
   "execution_count": 10,
   "id": "bdf9c1ea",
   "metadata": {},
   "outputs": [
    {
     "data": {
      "text/plain": [
       "DatetimeIndex(['1979-01-01', '1979-01-02', '1979-01-03', '1979-01-04',\n",
       "               '1979-01-05', '1979-01-06', '1979-01-07', '1979-01-08',\n",
       "               '1979-01-09', '1979-01-10',\n",
       "               ...\n",
       "               '2020-12-22', '2020-12-23', '2020-12-24', '2020-12-25',\n",
       "               '2020-12-26', '2020-12-27', '2020-12-28', '2020-12-29',\n",
       "               '2020-12-30', '2020-12-31'],\n",
       "              dtype='datetime64[ns]', name='date', length=15341, freq=None)"
      ]
     },
     "execution_count": 10,
     "metadata": {},
     "output_type": "execute_result"
    }
   ],
   "source": [
    "df.index"
   ]
  },
  {
   "cell_type": "code",
   "execution_count": 11,
   "id": "cc416474",
   "metadata": {},
   "outputs": [],
   "source": [
    "# Keep only data from the year 2000 or later.\n",
    "# Create a filter to do this\n",
    "filter1 = df.index >= \"2000\""
   ]
  },
  {
   "cell_type": "code",
   "execution_count": 12,
   "id": "37c1823f",
   "metadata": {},
   "outputs": [],
   "source": [
    "# Apply filter1\n",
    "df = df.loc[filter1]"
   ]
  },
  {
   "cell_type": "code",
   "execution_count": 13,
   "id": "540e9aee",
   "metadata": {},
   "outputs": [],
   "source": [
    "# Keep only the following features: precipitation, mean_temp, min_temp, max_temp, snow_depth\n",
    "df = df[['precipitation','mean_temp','min_temp','max_temp', 'snow_depth']]"
   ]
  },
  {
   "cell_type": "code",
   "execution_count": 14,
   "id": "b1fffba2",
   "metadata": {},
   "outputs": [
    {
     "name": "stdout",
     "output_type": "stream",
     "text": [
      "<class 'pandas.core.frame.DataFrame'>\n",
      "DatetimeIndex: 7671 entries, 2000-01-01 to 2020-12-31\n",
      "Data columns (total 5 columns):\n",
      " #   Column         Non-Null Count  Dtype  \n",
      "---  ------         --------------  -----  \n",
      " 0   precipitation  7281 non-null   float64\n",
      " 1   mean_temp      7252 non-null   float64\n",
      " 2   min_temp       7285 non-null   float64\n",
      " 3   max_temp       7281 non-null   float64\n",
      " 4   snow_depth     5919 non-null   float64\n",
      "dtypes: float64(5)\n",
      "memory usage: 359.6 KB\n"
     ]
    }
   ],
   "source": [
    "df.info()"
   ]
  },
  {
   "cell_type": "code",
   "execution_count": 15,
   "id": "24e82990",
   "metadata": {},
   "outputs": [
    {
     "data": {
      "text/html": [
       "<div>\n",
       "<style scoped>\n",
       "    .dataframe tbody tr th:only-of-type {\n",
       "        vertical-align: middle;\n",
       "    }\n",
       "\n",
       "    .dataframe tbody tr th {\n",
       "        vertical-align: top;\n",
       "    }\n",
       "\n",
       "    .dataframe thead th {\n",
       "        text-align: right;\n",
       "    }\n",
       "</style>\n",
       "<table border=\"1\" class=\"dataframe\">\n",
       "  <thead>\n",
       "    <tr style=\"text-align: right;\">\n",
       "      <th></th>\n",
       "      <th>precipitation</th>\n",
       "      <th>mean_temp</th>\n",
       "      <th>min_temp</th>\n",
       "      <th>max_temp</th>\n",
       "      <th>snow_depth</th>\n",
       "    </tr>\n",
       "    <tr>\n",
       "      <th>date</th>\n",
       "      <th></th>\n",
       "      <th></th>\n",
       "      <th></th>\n",
       "      <th></th>\n",
       "      <th></th>\n",
       "    </tr>\n",
       "  </thead>\n",
       "  <tbody>\n",
       "    <tr>\n",
       "      <th>2000-01-01</th>\n",
       "      <td>0.0</td>\n",
       "      <td>7.0</td>\n",
       "      <td>4.9</td>\n",
       "      <td>10.8</td>\n",
       "      <td>0.0</td>\n",
       "    </tr>\n",
       "    <tr>\n",
       "      <th>2000-01-02</th>\n",
       "      <td>0.2</td>\n",
       "      <td>7.9</td>\n",
       "      <td>5.0</td>\n",
       "      <td>11.5</td>\n",
       "      <td>0.0</td>\n",
       "    </tr>\n",
       "  </tbody>\n",
       "</table>\n",
       "</div>"
      ],
      "text/plain": [
       "            precipitation  mean_temp  min_temp  max_temp  snow_depth\n",
       "date                                                                \n",
       "2000-01-01            0.0        7.0       4.9      10.8         0.0\n",
       "2000-01-02            0.2        7.9       5.0      11.5         0.0"
      ]
     },
     "execution_count": 15,
     "metadata": {},
     "output_type": "execute_result"
    }
   ],
   "source": [
    "df.head(2)"
   ]
  },
  {
   "cell_type": "markdown",
   "id": "adc3ee39",
   "metadata": {},
   "source": [
    "### 4. Impute any missing values.\n",
    "Think about each feature and what imputation method makes sense. You may not be able to use the same method for every feature!"
   ]
  },
  {
   "cell_type": "code",
   "execution_count": 16,
   "id": "ba371365",
   "metadata": {},
   "outputs": [
    {
     "data": {
      "text/plain": [
       "precipitation     390\n",
       "mean_temp         419\n",
       "min_temp          386\n",
       "max_temp          390\n",
       "snow_depth       1752\n",
       "dtype: int64"
      ]
     },
     "execution_count": 16,
     "metadata": {},
     "output_type": "execute_result"
    }
   ],
   "source": [
    "#display the number of missing values for each feature\n",
    "df.isna().sum()"
   ]
  },
  {
   "cell_type": "markdown",
   "id": "a2db83bf",
   "metadata": {},
   "source": [
    "#### **`precipitation`**"
   ]
  },
  {
   "cell_type": "code",
   "execution_count": 17,
   "id": "86c7e954",
   "metadata": {},
   "outputs": [
    {
     "data": {
      "text/plain": [
       "0.0     3663\n",
       "0.2      689\n",
       "0.4      289\n",
       "0.6      176\n",
       "1.0      159\n",
       "        ... \n",
       "31.2       1\n",
       "24.4       1\n",
       "26.0       1\n",
       "29.2       1\n",
       "31.0       1\n",
       "Name: precipitation, Length: 145, dtype: int64"
      ]
     },
     "execution_count": 17,
     "metadata": {},
     "output_type": "execute_result"
    }
   ],
   "source": [
    "df['precipitation'].value_counts()"
   ]
  },
  {
   "cell_type": "markdown",
   "id": "15fea7fd",
   "metadata": {},
   "source": [
    "**Imputation Method**: Backward-Fill\n",
    "\n",
    "**Justification**: For precipitation, it makes sense to fill in the missing value with either Forward-Fill or Backward-Fill, because: \n",
    "- if the day before and the day after the missing value had a non-zero precipitation, it is likely that the day of missing value also had a non-zero precipitation\n",
    "- if the day before and the day after the missing value had 0 precipitation, then it is likely that the day of missing value also had 0 precipitation.\n",
    "\n",
    "For this assignment, I will use \"Backward-Fill\" for **precipitation** feature. \n",
    "\n",
    "I will impute the missing value with the value observed on the **day before** the missing value."
   ]
  },
  {
   "cell_type": "code",
   "execution_count": 18,
   "id": "6b315c54",
   "metadata": {},
   "outputs": [],
   "source": [
    "df['precipitation'] = df['precipitation'].fillna(method='bfill')"
   ]
  },
  {
   "cell_type": "markdown",
   "id": "07de292e",
   "metadata": {},
   "source": [
    "#### **`mean_temp`**"
   ]
  },
  {
   "cell_type": "markdown",
   "id": "3eb968cf",
   "metadata": {},
   "source": [
    "**Imputation Method**: Interpolation\n",
    "\n",
    "**Justification**: The temperature should not vary drastically from one day to another, therefore, it makes sense to use .interpolate() to fill in the missing values with a value that falls between the previous known value and the next known value."
   ]
  },
  {
   "cell_type": "code",
   "execution_count": 19,
   "id": "d0a0e220",
   "metadata": {},
   "outputs": [],
   "source": [
    "df['mean_temp'] = df['mean_temp'].interpolate()"
   ]
  },
  {
   "cell_type": "markdown",
   "id": "02694183",
   "metadata": {},
   "source": [
    "#### **`min_temp`**"
   ]
  },
  {
   "cell_type": "markdown",
   "id": "8433f9c1",
   "metadata": {},
   "source": [
    "**Imputation Method**: Interpolation\n",
    "\n",
    "**Justification**: The temperature should not vary drastically from one day to another, therefore, it makes sense to use .interpolate() to fill in the missing values with a value that falls between the previous known value and the next known value."
   ]
  },
  {
   "cell_type": "code",
   "execution_count": 20,
   "id": "81cb4888",
   "metadata": {},
   "outputs": [],
   "source": [
    "df['min_temp'] = df['min_temp'].interpolate()"
   ]
  },
  {
   "cell_type": "markdown",
   "id": "f63b2218",
   "metadata": {},
   "source": [
    "#### **`max_temp`**"
   ]
  },
  {
   "cell_type": "markdown",
   "id": "5c604278",
   "metadata": {},
   "source": [
    "**Imputation Method**: Interpolation\n",
    "\n",
    "**Justification**: The temperature should not vary drastically from one day to another, therefore, it makes sense to use .interpolate() to fill in the missing values with a value that falls between the previous known value and the next known value."
   ]
  },
  {
   "cell_type": "code",
   "execution_count": 21,
   "id": "b241c219",
   "metadata": {},
   "outputs": [],
   "source": [
    "df['max_temp'] = df['max_temp'].interpolate()"
   ]
  },
  {
   "cell_type": "markdown",
   "id": "418a3fd4",
   "metadata": {},
   "source": [
    "#### **`snow_depth`**"
   ]
  },
  {
   "cell_type": "code",
   "execution_count": 22,
   "id": "40929955",
   "metadata": {},
   "outputs": [
    {
     "data": {
      "text/plain": [
       "0.0     5865\n",
       "1.0       18\n",
       "2.0       17\n",
       "3.0        9\n",
       "4.0        4\n",
       "7.0        2\n",
       "5.0        2\n",
       "12.0       1\n",
       "6.0        1\n",
       "Name: snow_depth, dtype: int64"
      ]
     },
     "execution_count": 22,
     "metadata": {},
     "output_type": "execute_result"
    }
   ],
   "source": [
    "df['snow_depth'].value_counts()"
   ]
  },
  {
   "cell_type": "markdown",
   "id": "36c44f88",
   "metadata": {},
   "source": [
    "**Imputation Method**: Forward Fill\n",
    "\n",
    "**Justification**: Impute the missing value with the value observed on the day after the missing value to avoid discontinuity.\n",
    "    "
   ]
  },
  {
   "cell_type": "code",
   "execution_count": 23,
   "id": "94888784",
   "metadata": {},
   "outputs": [],
   "source": [
    "df['snow_depth'] = df['snow_depth'].fillna(method='ffill')"
   ]
  },
  {
   "cell_type": "code",
   "execution_count": 24,
   "id": "c15ab639",
   "metadata": {},
   "outputs": [
    {
     "data": {
      "text/plain": [
       "precipitation    0\n",
       "mean_temp        0\n",
       "min_temp         0\n",
       "max_temp         0\n",
       "snow_depth       0\n",
       "dtype: int64"
      ]
     },
     "execution_count": 24,
     "metadata": {},
     "output_type": "execute_result"
    }
   ],
   "source": [
    "#check to make sure that all missing values have been imputed.\n",
    "df.isna().sum()"
   ]
  },
  {
   "cell_type": "markdown",
   "id": "15235169",
   "metadata": {},
   "source": [
    "# **Part 2) Answer the Questions with Visualizations (Using the Correct Frequency)**"
   ]
  },
  {
   "cell_type": "markdown",
   "id": "e1ca2fc7",
   "metadata": {},
   "source": [
    "## Q1: What month had the most precipitation between 2000 through 2010?"
   ]
  },
  {
   "cell_type": "code",
   "execution_count": 25,
   "id": "08ee06ca",
   "metadata": {},
   "outputs": [],
   "source": [
    "#prepare a copy of data for Q1\n",
    "Q1_prec = df['precipitation'].copy()"
   ]
  },
  {
   "cell_type": "code",
   "execution_count": 26,
   "id": "25bd98df",
   "metadata": {},
   "outputs": [],
   "source": [
    "#create a filter to filter data between 2000 through 2010\n",
    "filter_q1 = Q1_prec.index <= '2010-12-31'"
   ]
  },
  {
   "cell_type": "code",
   "execution_count": 27,
   "id": "0bcc0c41",
   "metadata": {},
   "outputs": [],
   "source": [
    "#apply the filter\n",
    "Q1_prec = Q1_prec [filter_q1]"
   ]
  },
  {
   "cell_type": "code",
   "execution_count": 28,
   "id": "82d9b6e7",
   "metadata": {},
   "outputs": [
    {
     "data": {
      "text/plain": [
       "date\n",
       "2010-12-27    5.0\n",
       "2010-12-28    0.4\n",
       "2010-12-29    1.4\n",
       "2010-12-30    0.0\n",
       "2010-12-31    0.0\n",
       "Name: precipitation, dtype: float64"
      ]
     },
     "execution_count": 28,
     "metadata": {},
     "output_type": "execute_result"
    }
   ],
   "source": [
    "#confirm that the filter is working\n",
    "Q1_prec.tail()"
   ]
  },
  {
   "cell_type": "code",
   "execution_count": 29,
   "id": "4862ffa5",
   "metadata": {},
   "outputs": [
    {
     "data": {
      "text/plain": [
       "date\n",
       "2000-01-31    0.0\n",
       "2000-02-29    5.6\n",
       "2000-03-31    0.0\n",
       "2000-04-30    0.0\n",
       "2000-05-31    1.4\n",
       "Freq: M, Name: precipitation, dtype: float64"
      ]
     },
     "execution_count": 29,
     "metadata": {},
     "output_type": "execute_result"
    }
   ],
   "source": [
    "# Resample the data as Monthly frequency.\n",
    "Q1_prec = Q1_prec.asfreq(\"M\")\n",
    "Q1_prec.head(5)"
   ]
  },
  {
   "cell_type": "code",
   "execution_count": 30,
   "id": "18d30ea5",
   "metadata": {},
   "outputs": [
    {
     "data": {
      "text/plain": [
       "Timestamp('2002-04-30 00:00:00', freq='M')"
      ]
     },
     "execution_count": 30,
     "metadata": {},
     "output_type": "execute_result"
    }
   ],
   "source": [
    "# Find the date and corresponding value for the max precipitation.\n",
    "max_date = Q1_prec.idxmax()\n",
    "max_date"
   ]
  },
  {
   "cell_type": "code",
   "execution_count": 31,
   "id": "5f041f64",
   "metadata": {},
   "outputs": [
    {
     "data": {
      "text/plain": [
       "date\n",
       "2002-04-30    13.8\n",
       "Freq: M, Name: precipitation, dtype: float64"
      ]
     },
     "execution_count": 31,
     "metadata": {},
     "output_type": "execute_result"
    }
   ],
   "source": [
    "# Find the value for the max precipitation\n",
    "Q1_prec[Q1_prec.index == '2002-04-30 00:00:00']"
   ]
  },
  {
   "cell_type": "code",
   "execution_count": 32,
   "id": "4467ef83",
   "metadata": {},
   "outputs": [
    {
     "data": {
      "text/plain": [
       "date\n",
       "2002-04-30    13.8\n",
       "2008-08-31    13.4\n",
       "2007-06-30    12.0\n",
       "2002-12-31    11.8\n",
       "2006-09-30    11.4\n",
       "              ... \n",
       "2004-11-30     0.0\n",
       "2004-10-31     0.0\n",
       "2004-08-31     0.0\n",
       "2004-07-31     0.0\n",
       "2010-12-31     0.0\n",
       "Name: precipitation, Length: 132, dtype: float64"
      ]
     },
     "execution_count": 32,
     "metadata": {},
     "output_type": "execute_result"
    }
   ],
   "source": [
    "#double-check\n",
    "Q1_prec.sort_values(ascending=False)"
   ]
  },
  {
   "cell_type": "markdown",
   "id": "4add73e0",
   "metadata": {},
   "source": [
    "**April 2002** had the most precipitation between 2000 through 2010, and the value of precipitation was **13.8**."
   ]
  },
  {
   "cell_type": "markdown",
   "id": "cf9b541b",
   "metadata": {},
   "source": [
    "**Plot**"
   ]
  },
  {
   "cell_type": "code",
   "execution_count": 33,
   "id": "7029df99",
   "metadata": {},
   "outputs": [
    {
     "data": {
      "text/plain": [
       "DatetimeIndex(['2000-01-31', '2000-02-29', '2000-03-31', '2000-04-30',\n",
       "               '2000-05-31', '2000-06-30', '2000-07-31', '2000-08-31',\n",
       "               '2000-09-30', '2000-10-31',\n",
       "               ...\n",
       "               '2010-03-31', '2010-04-30', '2010-05-31', '2010-06-30',\n",
       "               '2010-07-31', '2010-08-31', '2010-09-30', '2010-10-31',\n",
       "               '2010-11-30', '2010-12-31'],\n",
       "              dtype='datetime64[ns]', name='date', length=132, freq='M')"
      ]
     },
     "execution_count": 33,
     "metadata": {},
     "output_type": "execute_result"
    }
   ],
   "source": [
    "Q1_prec.index"
   ]
  },
  {
   "cell_type": "code",
   "execution_count": 46,
   "id": "5641b11c",
   "metadata": {},
   "outputs": [
    {
     "data": {
      "image/png": "[encoded data removed]",
      "text/plain": [
       "<Figure size 1200x300 with 1 Axes>"
      ]
     },
     "metadata": {},
     "output_type": "display_data"
    }
   ],
   "source": [
    "fig, ax = plt.subplots(figsize=(12,3))\n",
    "Q1_prec.plot(ax = ax, title='Precipitation for 2000-2010', ylabel='Inches')\n",
    "## Making major/minor gridlines visually distinct\n",
    "ax.grid(which='minor',axis='x',ls=\":\")\n",
    "ax.grid(which='major',axis='x',color='k')\n",
    "fig.autofmt_xdate(rotation=90,ha='center')\n",
    "# Add a line for the max precipitation date and value\n",
    "ax.axvline(max_date, color = 'orange', ls =\"-.\", label=f'April 2002 ({Q1_prec.max()})')\n",
    "ax.legend();"
   ]
  },
  {
   "cell_type": "markdown",
   "id": "06cac174",
   "metadata": {},
   "source": [
    "## Q2: Which year between 2000-2020 had the coolest average temperature?"
   ]
  },
  {
   "cell_type": "code",
   "execution_count": 47,
   "id": "b2e26888",
   "metadata": {},
   "outputs": [],
   "source": [
    "#prepare a copy of data for Q2\n",
    "Q2_temp = df['mean_temp'].copy()"
   ]
  },
  {
   "cell_type": "code",
   "execution_count": 49,
   "id": "fa7e31be",
   "metadata": {},
   "outputs": [],
   "source": [
    "#create a filter to filter data between 2000 through 2020\n",
    "filter_q2 = Q2_temp.index <= '2020-12-31'"
   ]
  },
  {
   "cell_type": "code",
   "execution_count": 50,
   "id": "0e64d091",
   "metadata": {},
   "outputs": [],
   "source": [
    "#apply the filter\n",
    "Q2_temp = Q2_temp [filter_q2]"
   ]
  },
  {
   "cell_type": "code",
   "execution_count": 53,
   "id": "73d4d599",
   "metadata": {},
   "outputs": [
    {
     "name": "stdout",
     "output_type": "stream",
     "text": [
      "date\n",
      "2000-01-01    7.0\n",
      "2000-01-02    7.9\n",
      "2000-01-03    9.4\n",
      "Name: mean_temp, dtype: float64\n",
      "date\n",
      "2020-12-29    2.6\n",
      "2020-12-30    2.7\n",
      "2020-12-31   -0.8\n",
      "Name: mean_temp, dtype: float64\n"
     ]
    }
   ],
   "source": [
    "#confirm that the filter is working\n",
    "print(Q2_temp.head(3))\n",
    "print(Q2_temp.tail(3))"
   ]
  },
  {
   "cell_type": "code",
   "execution_count": 54,
   "id": "958d9b48",
   "metadata": {},
   "outputs": [
    {
     "data": {
      "text/plain": [
       "date\n",
       "2000-12-31     2.8\n",
       "2001-12-31     1.0\n",
       "2002-12-31     7.3\n",
       "2003-12-31     3.3\n",
       "2004-12-31    10.6\n",
       "Freq: A-DEC, Name: mean_temp, dtype: float64"
      ]
     },
     "execution_count": 54,
     "metadata": {},
     "output_type": "execute_result"
    }
   ],
   "source": [
    "# Resample the data as Yearly frequency.\n",
    "Q2_temp = Q2_temp.asfreq(\"Y\")\n",
    "Q2_temp.head(5)"
   ]
  },
  {
   "cell_type": "code",
   "execution_count": 58,
   "id": "8c280a49",
   "metadata": {},
   "outputs": [
    {
     "data": {
      "image/png": "[encoded data removed]",
      "text/plain": [
       "<Figure size 1200x300 with 1 Axes>"
      ]
     },
     "metadata": {},
     "output_type": "display_data"
    }
   ],
   "source": [
    "fig, ax = plt.subplots(figsize=(12,3))\n",
    "Q2_temp.plot(ax = ax, title='Average Temperature', ylabel='Degrees')\n",
    "## Making major/minor gridlines visually distinct\n",
    "ax.grid(which='minor',axis='x',ls=\":\")\n",
    "ax.grid(which='major',axis='x',color='k')\n",
    "fig.autofmt_xdate(rotation=90,ha='center')"
   ]
  },
  {
   "cell_type": "code",
   "execution_count": 59,
   "id": "91c9ccf3",
   "metadata": {},
   "outputs": [
    {
     "data": {
      "text/plain": [
       "Timestamp('2008-12-31 00:00:00', freq='A-DEC')"
      ]
     },
     "execution_count": 59,
     "metadata": {},
     "output_type": "execute_result"
    }
   ],
   "source": [
    "# Determine the date and value for the lowest mean temp.\n",
    "min_date = Q2_temp.idxmin()\n",
    "min_date"
   ]
  },
  {
   "cell_type": "code",
   "execution_count": 60,
   "id": "21e2298b",
   "metadata": {},
   "outputs": [
    {
     "data": {
      "text/plain": [
       "date\n",
       "2008-12-31   -0.8\n",
       "Freq: A-DEC, Name: mean_temp, dtype: float64"
      ]
     },
     "execution_count": 60,
     "metadata": {},
     "output_type": "execute_result"
    }
   ],
   "source": [
    "# Find the value for the max precipitation\n",
    "Q2_temp[Q2_temp.index == '2008-12-31 00:00:00']"
   ]
  },
  {
   "cell_type": "code",
   "execution_count": 61,
   "id": "5df44f09",
   "metadata": {},
   "outputs": [
    {
     "data": {
      "text/plain": [
       "date\n",
       "2020-12-31    -0.8\n",
       "2008-12-31    -0.8\n",
       "2001-12-31     1.0\n",
       "2014-12-31     2.2\n",
       "2000-12-31     2.8\n",
       "2003-12-31     3.3\n",
       "2009-12-31     3.9\n",
       "2016-12-31     4.6\n",
       "2005-12-31     5.4\n",
       "2010-12-31     5.9\n",
       "2007-12-31     6.7\n",
       "2019-12-31     7.1\n",
       "2002-12-31     7.3\n",
       "2013-12-31     8.0\n",
       "2012-12-31     8.6\n",
       "2006-12-31     8.7\n",
       "2011-12-31     9.2\n",
       "2018-12-31     9.4\n",
       "2015-12-31     9.5\n",
       "2017-12-31    10.3\n",
       "2004-12-31    10.6\n",
       "Name: mean_temp, dtype: float64"
      ]
     },
     "execution_count": 61,
     "metadata": {},
     "output_type": "execute_result"
    }
   ],
   "source": [
    "##Double-check\n",
    "Q2_temp.sort_values(ascending=True)"
   ]
  },
  {
   "cell_type": "code",
   "execution_count": 63,
   "id": "727397c1",
   "metadata": {},
   "outputs": [
    {
     "data": {
      "image/png": "[encoded data removed]",
      "text/plain": [
       "<Figure size 1200x300 with 1 Axes>"
      ]
     },
     "metadata": {},
     "output_type": "display_data"
    }
   ],
   "source": [
    "fig, ax = plt.subplots(figsize=(12,3))\n",
    "Q2_temp.plot(ax = ax, title='Average Temperature', ylabel='Degrees')\n",
    "## Making major/minor gridlines visually distinct\n",
    "ax.grid(which='minor',axis='x',ls=\":\")\n",
    "ax.grid(which='major',axis='x',color='k')\n",
    "fig.autofmt_xdate(rotation=90,ha='center')\n",
    "\n",
    "# Add a line for the max precipitation date and value\n",
    "ax.axvline(min_date, color = 'orange', ls =\"-.\", label=f'2008 ({Q2_temp.min()})')\n",
    "ax.legend();"
   ]
  }
 ],
 "metadata": {
  "kernelspec": {
   "display_name": "Python (dojo-env)",
   "language": "python",
   "name": "dojo-env"
  },
  "language_info": {
   "codemirror_mode": {
    "name": "ipython",
    "version": 3
   },
   "file_extension": ".py",
   "mimetype": "text/x-python",
   "name": "python",
   "nbconvert_exporter": "python",
   "pygments_lexer": "ipython3",
   "version": "3.9.15"
  },
  "toc": {
   "base_numbering": 1,
   "nav_menu": {},
   "number_sections": false,
   "sideBar": true,
   "skip_h1_title": false,
   "title_cell": "Table of Contents",
   "title_sidebar": "Contents",
   "toc_cell": false,
   "toc_position": {
    "height": "calc(100% - 180px)",
    "left": "10px",
    "top": "150px",
    "width": "223.391px"
   },
   "toc_section_display": true,
   "toc_window_display": true
  }
 },
 "nbformat": 4,
 "nbformat_minor": 5
}
